{
 "cells": [
  {
   "cell_type": "code",
   "execution_count": 1,
   "metadata": {},
   "outputs": [],
   "source": [
    "from bs4 import BeautifulSoup as bs\n",
    "import requests\n",
    "from splinter import Browser\n",
    "\n",
    "import pandas as pd\n"
   ]
  },
  {
   "cell_type": "markdown",
   "metadata": {},
   "source": [
    "#NASA Mars News"
   ]
  },
  {
   "cell_type": "code",
   "execution_count": 2,
   "metadata": {},
   "outputs": [],
   "source": [
    "# URL of page to be scraped\n",
    "url = 'https://mars.nasa.gov/news/'"
   ]
  },
  {
   "cell_type": "code",
   "execution_count": 3,
   "metadata": {},
   "outputs": [],
   "source": [
    "executable_path = {'executable_path': 'chromedriver.exe'}\n",
    "browser = Browser('chrome', **executable_path, headless=True)"
   ]
  },
  {
   "cell_type": "code",
   "execution_count": 4,
   "metadata": {},
   "outputs": [],
   "source": [
    "# Retrieve page with the requests module\n",
    "browser.visit(url)\n",
    "\n",
    "# Create BeautifulSoup object\n",
    "soup = bs(browser.html,'html.parser')\n",
    "headline = soup.select_one(\"ul.item_list li.slide\")\n",
    "#print(temp)\n",
    "news_title = headline.find('div', class_='content_title').a.text\n",
    "news_p = headline.find('div', class_='article_teaser_body').text\n"
   ]
  },
  {
   "cell_type": "markdown",
   "metadata": {},
   "source": [
    "#JPL Mars Space Images - Featured Image"
   ]
  },
  {
   "cell_type": "code",
   "execution_count": 5,
   "metadata": {},
   "outputs": [],
   "source": [
    "# URL of page to be scraped\n",
    "jpl_url = 'https://www.jpl.nasa.gov/spaceimages/?search=&category=Mars'"
   ]
  },
  {
   "cell_type": "code",
   "execution_count": 6,
   "metadata": {},
   "outputs": [],
   "source": [
    "executable_path = {'executable_path': 'chromedriver.exe'}\n",
    "browser = Browser('chrome', **executable_path, headless=True)"
   ]
  },
  {
   "cell_type": "code",
   "execution_count": 7,
   "metadata": {},
   "outputs": [],
   "source": [
    "#Visit JPL URL\n",
    "browser.visit(jpl_url)\n",
    "soup = bs(browser.html,'html.parser')\n",
    "\n",
    "jpl_base_url = \"https://www.jpl.nasa.gov\"\n",
    "\n",
    "#Retrieve URL to page with featured image - full\n",
    "path = soup.select_one(\"a.button\")[\"data-link\"]\n"
   ]
  },
  {
   "cell_type": "code",
   "execution_count": 8,
   "metadata": {},
   "outputs": [],
   "source": [
    "#go to page with featured image - full\n",
    "browser.visit(jpl_base_url + path)\n",
    "\n",
    "soup = bs(browser.html,'html.parser')\n",
    "path = soup.select_one(\"img.main_image\")[\"src\"]\n",
    "featured_image_url = jpl_base_url + path"
   ]
  },
  {
   "cell_type": "markdown",
   "metadata": {},
   "source": [
    "#Mars Weather"
   ]
  },
  {
   "cell_type": "code",
   "execution_count": 9,
   "metadata": {},
   "outputs": [],
   "source": [
    "url = 'https://twitter.com/marswxreport?lang=en'"
   ]
  },
  {
   "cell_type": "code",
   "execution_count": 10,
   "metadata": {},
   "outputs": [],
   "source": [
    "executable_path = {'executable_path': 'chromedriver.exe'}\n",
    "browser = Browser('chrome', **executable_path, headless=True)"
   ]
  },
  {
   "cell_type": "code",
   "execution_count": 11,
   "metadata": {},
   "outputs": [
    {
     "data": {
      "text/plain": [
       "'InSight sol 265 (2019-08-25) low -99.4ºC (-146.9ºF) high -26.3ºC (-15.3ºF)\\nwinds from the SSE at 5.3 m/s (12.0 mph) gusting to 16.1 m/s (35.9 mph)\\npressure at 7.50 hPapic.twitter.com/9YLawm67zS'"
      ]
     },
     "execution_count": 11,
     "metadata": {},
     "output_type": "execute_result"
    }
   ],
   "source": [
    "# Retrieve page with the requests module\n",
    "browser.visit(url)\n",
    "\n",
    "# Create BeautifulSoup object\n",
    "soup = bs(browser.html,'html.parser')\n",
    "#mars_weather = soup.select_one(\"div.content p.TweetTextSize\").text\n",
    "tweets = soup.select(\"div.js-tweet-text-container p.TweetTextSize\")\n",
    "for tweet in range(len(tweets)):\n",
    "    #Top tweet might not have the weather info as in the case of a pinned tweet, search for tweet that begins \n",
    "    #with \"InSight sol\" which appears to be the pattern\n",
    "    if(tweets[tweet].text.startswith(\"InSight sol\")):\n",
    "        mars_weather = tweets[tweet].text\n",
    "        break\n",
    "\n",
    "mars_weather"
   ]
  },
  {
   "cell_type": "markdown",
   "metadata": {},
   "source": [
    "#Mars Facts"
   ]
  },
  {
   "cell_type": "code",
   "execution_count": 12,
   "metadata": {},
   "outputs": [],
   "source": [
    "mars_facts_url = 'https://space-facts.com/mars/'"
   ]
  },
  {
   "cell_type": "code",
   "execution_count": 13,
   "metadata": {},
   "outputs": [
    {
     "data": {
      "text/plain": [
       "'<table border=\"1\" class=\"dataframe\">\\n  <thead>\\n    <tr style=\"text-align: right;\">\\n      <th></th>\\n      <th>Fact</th>\\n      <th>Dimension</th>\\n    </tr>\\n  </thead>\\n  <tbody>\\n    <tr>\\n      <th>0</th>\\n      <td>Equatorial Diameter:</td>\\n      <td>6,792 km</td>\\n    </tr>\\n    <tr>\\n      <th>1</th>\\n      <td>Polar Diameter:</td>\\n      <td>6,752 km</td>\\n    </tr>\\n    <tr>\\n      <th>2</th>\\n      <td>Mass:</td>\\n      <td>6.39 × 10^23 kg (0.11 Earths)</td>\\n    </tr>\\n    <tr>\\n      <th>3</th>\\n      <td>Moons:</td>\\n      <td>2 (Phobos &amp; Deimos)</td>\\n    </tr>\\n    <tr>\\n      <th>4</th>\\n      <td>Orbit Distance:</td>\\n      <td>227,943,824 km (1.38 AU)</td>\\n    </tr>\\n    <tr>\\n      <th>5</th>\\n      <td>Orbit Period:</td>\\n      <td>687 days (1.9 years)</td>\\n    </tr>\\n    <tr>\\n      <th>6</th>\\n      <td>Surface Temperature:</td>\\n      <td>-87 to -5 °C</td>\\n    </tr>\\n    <tr>\\n      <th>7</th>\\n      <td>First Record:</td>\\n      <td>2nd millennium BC</td>\\n    </tr>\\n    <tr>\\n      <th>8</th>\\n      <td>Recorded By:</td>\\n      <td>Egyptian astronomers</td>\\n    </tr>\\n  </tbody>\\n</table>'"
      ]
     },
     "execution_count": 13,
     "metadata": {},
     "output_type": "execute_result"
    }
   ],
   "source": [
    "tables = pd.read_html(mars_facts_url)\n",
    "mars_facts = tables[1]\n",
    "\n",
    "mars_facts.columns = ['value' , 'description']\n",
    "\n",
    "mars_facts.set_index('description',inplace=True)\n",
    "\n",
    "mars_facts.to_html()"
   ]
  },
  {
   "cell_type": "code",
   "execution_count": null,
   "metadata": {},
   "outputs": [],
   "source": []
  },
  {
   "cell_type": "markdown",
   "metadata": {},
   "source": [
    "#Mars Hemispheres"
   ]
  },
  {
   "cell_type": "code",
   "execution_count": 14,
   "metadata": {},
   "outputs": [],
   "source": [
    "mars_hemispheres_url = 'https://astrogeology.usgs.gov/search/results?q=hemisphere+enhanced&k1=target&v1=Mars'"
   ]
  },
  {
   "cell_type": "code",
   "execution_count": 15,
   "metadata": {},
   "outputs": [],
   "source": [
    "# Retrieve page with the requests module\n",
    "browser.visit(mars_hemispheres_url)\n",
    "\n",
    "# Create BeautifulSoup object\n",
    "soup = bs(browser.html,'html.parser')\n",
    "\n",
    "base_url=\"https://astrogeology.usgs.gov\"\n",
    "\n",
    "#Get div with the items\n",
    "mars_hemispheres_all = soup.find(\"div\", class_=\"collapsible results\")\n",
    "\n",
    "\n",
    "#mars_hemispheres_desc has path to page with link to the full image\n",
    "mars_hemispheres_desc = mars_hemispheres_all.find_all(\"div\", class_=\"description\")\n",
    "\n",
    "#h3 has the title\n",
    "mars_hemispheres_titles = mars_hemispheres_all.find_all(\"h3\")\n",
    "\n",
    "#list to store the titles & URLs\n",
    "hemisphere_image_urls = []\n",
    "\n",
    "\n",
    "for hemisphere in range(len(mars_hemispheres_desc)):\n",
    "    #get a tag\n",
    "    a = mars_hemispheres_desc[hemisphere].find(\"a\", class_=\"itemLink product-item\")\n",
    "    \n",
    "    #img_url - URL to the page with the full image\n",
    "    img_url = base_url + a['href']\n",
    "    \n",
    "    #visit page with the full image\n",
    "    browser.visit(img_url)    \n",
    "    soup = bs(browser.html,'html.parser')\n",
    "    \n",
    "    #retrieve URL to the full image\n",
    "    img_url = soup.find(\"div\", class_=\"downloads\").find('a')['href'] \n",
    "    \n",
    "    #save to the dictionary    \n",
    "    hemisphere_image_urls.append({'title' : mars_hemispheres_titles[hemisphere].text, 'img_url': img_url})\n",
    "    \n",
    "    \n",
    "    \n",
    "#mars_hemispheres_info"
   ]
  },
  {
   "cell_type": "code",
   "execution_count": null,
   "metadata": {},
   "outputs": [],
   "source": []
  }
 ],
 "metadata": {
  "kernelspec": {
   "display_name": "Python 3",
   "language": "python",
   "name": "python3"
  },
  "language_info": {
   "codemirror_mode": {
    "name": "ipython",
    "version": 3
   },
   "file_extension": ".py",
   "mimetype": "text/x-python",
   "name": "python",
   "nbconvert_exporter": "python",
   "pygments_lexer": "ipython3",
   "version": "3.7.3"
  }
 },
 "nbformat": 4,
 "nbformat_minor": 2
}
